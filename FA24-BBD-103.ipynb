{
 "cells": [
  {
   "cell_type": "code",
   "execution_count": 1,
   "id": "a21c0adb-41de-42d3-9e6d-1808cf5e2ec3",
   "metadata": {},
   "outputs": [],
   "source": [
    "#Muhammed Mozzam Hasnan\n",
    "#FA24-BBD-103"
   ]
  },
  {
   "cell_type": "code",
   "execution_count": 2,
   "id": "6fa188a9-2d1a-4e3d-a922-9fba2eaf8a43",
   "metadata": {},
   "outputs": [],
   "source": [
    "#Question NO.1"
   ]
  },
  {
   "cell_type": "code",
   "execution_count": 3,
   "id": "d2b89ea5-8168-4955-89d6-848164263526",
   "metadata": {},
   "outputs": [],
   "source": [
    "cities=[\"Lahore\",\"Karachi\",\"islamabad\",\"quetta\",\"Peshawar\",\"skardu\",\"Muzaffarabad\",\"multan\",\"Gawadar\"]"
   ]
  },
  {
   "cell_type": "code",
   "execution_count": 4,
   "id": "59028e17-feef-41f4-9999-d0b24d82ee5f",
   "metadata": {},
   "outputs": [],
   "source": [
    "cities_inv=[]"
   ]
  },
  {
   "cell_type": "code",
   "execution_count": 5,
   "id": "07b0c767-b7ca-4043-ac80-b4c52a81d0bc",
   "metadata": {},
   "outputs": [],
   "source": [
    "for i in range(len(cities)-1,-1,-1):\n",
    "    cities_inv.append(cities[i].title())"
   ]
  },
  {
   "cell_type": "code",
   "execution_count": 6,
   "id": "2adbb8fe-5a97-4d1e-a919-76285e723d0c",
   "metadata": {},
   "outputs": [
    {
     "name": "stdout",
     "output_type": "stream",
     "text": [
      "Cities: ['Lahore', 'Karachi', 'islamabad', 'quetta', 'Peshawar', 'skardu', 'Muzaffarabad', 'multan', 'Gawadar']\n",
      "Inverted Cities: ['Gawadar', 'Multan', 'Muzaffarabad', 'Skardu', 'Peshawar', 'Quetta', 'Islamabad', 'Karachi', 'Lahore']\n"
     ]
    }
   ],
   "source": [
    "print(\"Cities:\",cities)\n",
    "print(\"Inverted Cities:\",cities_inv)"
   ]
  },
  {
   "cell_type": "code",
   "execution_count": 7,
   "id": "0014c66b-6659-4d92-a969-68c0bb791366",
   "metadata": {},
   "outputs": [],
   "source": [
    "cities_inv.sort()"
   ]
  },
  {
   "cell_type": "code",
   "execution_count": 8,
   "id": "06ef386c-4d8d-4f8e-9880-bf4792825fb6",
   "metadata": {},
   "outputs": [
    {
     "name": "stdout",
     "output_type": "stream",
     "text": [
      "The Selected City is ISLAMABAD\n",
      "The Selected City is KARACHI\n",
      "The Selected City is LAHORE\n",
      "The Selected City is MULTAN\n",
      "The Selected City is MUZAFFARABAD\n",
      "The Selected City is PESHAWAR\n",
      "The Selected City is QUETTA\n"
     ]
    }
   ],
   "source": [
    "for i in range (1,8):\n",
    "    print(f\"The Selected City is {cities_inv[i].upper()}\")"
   ]
  },
  {
   "cell_type": "code",
   "execution_count": 9,
   "id": "de725ea4-11d4-4add-b39b-cde684e5b73d",
   "metadata": {},
   "outputs": [],
   "source": [
    "#Question No.2"
   ]
  },
  {
   "cell_type": "code",
   "execution_count": 10,
   "id": "05da73b2-eebe-453b-a283-f4223f288fd0",
   "metadata": {},
   "outputs": [],
   "source": [
    "odd_numbers=list(range(1,11,2))"
   ]
  },
  {
   "cell_type": "code",
   "execution_count": 11,
   "id": "aa493e25-7170-4c14-99ee-1d8c0b9d8a67",
   "metadata": {},
   "outputs": [
    {
     "name": "stdout",
     "output_type": "stream",
     "text": [
      "[1, 3, 5, 7, 9]\n"
     ]
    }
   ],
   "source": [
    "print(odd_numbers)"
   ]
  },
  {
   "cell_type": "code",
   "execution_count": 12,
   "id": "83ddeacd-263b-43b3-8249-21a044f9f310",
   "metadata": {},
   "outputs": [],
   "source": [
    "for i in range(len(odd_numbers)):\n",
    "    odd_numbers[i]=odd_numbers[i]**3"
   ]
  },
  {
   "cell_type": "code",
   "execution_count": 13,
   "id": "b1f7a3b5-fae6-4714-9fec-2fc0f9d58165",
   "metadata": {},
   "outputs": [
    {
     "name": "stdout",
     "output_type": "stream",
     "text": [
      "[1, 27, 125, 343, 729]\n"
     ]
    }
   ],
   "source": [
    "print(odd_numbers)"
   ]
  },
  {
   "cell_type": "code",
   "execution_count": 14,
   "id": "a01b2072-aa95-4be3-b9e0-1807e2a4ffb9",
   "metadata": {},
   "outputs": [
    {
     "name": "stdout",
     "output_type": "stream",
     "text": [
      "The element printed is 1\n",
      "The element printed is 27\n",
      "The element printed is 125\n"
     ]
    }
   ],
   "source": [
    "for element in odd_numbers[:3]:\n",
    "    print(f\"The element printed is {element}\")"
   ]
  }
 ],
 "metadata": {
  "kernelspec": {
   "display_name": "Python 3 (ipykernel)",
   "language": "python",
   "name": "python3"
  },
  "language_info": {
   "codemirror_mode": {
    "name": "ipython",
    "version": 3
   },
   "file_extension": ".py",
   "mimetype": "text/x-python",
   "name": "python",
   "nbconvert_exporter": "python",
   "pygments_lexer": "ipython3",
   "version": "3.12.4"
  }
 },
 "nbformat": 4,
 "nbformat_minor": 5
}
